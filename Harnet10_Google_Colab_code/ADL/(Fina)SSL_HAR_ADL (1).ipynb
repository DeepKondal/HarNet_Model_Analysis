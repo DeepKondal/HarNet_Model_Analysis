{
  "nbformat": 4,
  "nbformat_minor": 0,
  "metadata": {
    "colab": {
      "provenance": []
    },
    "kernelspec": {
      "name": "python3",
      "display_name": "Python 3"
    },
    "language_info": {
      "name": "python"
    }
  },
  "cells": [
    {
      "cell_type": "code",
      "execution_count": null,
      "metadata": {
        "colab": {
          "base_uri": "https://localhost:8080/"
        },
        "collapsed": true,
        "id": "rRr5Sw3BHF8l",
        "outputId": "b739a64e-4b06-47fe-f85a-494c5beac657"
      },
      "outputs": [
        {
          "output_type": "stream",
          "name": "stdout",
          "text": [
            "Requirement already satisfied: torch in /usr/local/lib/python3.10/dist-packages (2.4.1+cu121)\n",
            "Requirement already satisfied: torchvision in /usr/local/lib/python3.10/dist-packages (0.19.1+cu121)\n",
            "Requirement already satisfied: numpy in /usr/local/lib/python3.10/dist-packages (1.26.4)\n",
            "Requirement already satisfied: scikit-learn in /usr/local/lib/python3.10/dist-packages (1.5.2)\n",
            "Requirement already satisfied: filelock in /usr/local/lib/python3.10/dist-packages (from torch) (3.16.1)\n",
            "Requirement already satisfied: typing-extensions>=4.8.0 in /usr/local/lib/python3.10/dist-packages (from torch) (4.12.2)\n",
            "Requirement already satisfied: sympy in /usr/local/lib/python3.10/dist-packages (from torch) (1.13.3)\n",
            "Requirement already satisfied: networkx in /usr/local/lib/python3.10/dist-packages (from torch) (3.3)\n",
            "Requirement already satisfied: jinja2 in /usr/local/lib/python3.10/dist-packages (from torch) (3.1.4)\n",
            "Requirement already satisfied: fsspec in /usr/local/lib/python3.10/dist-packages (from torch) (2024.6.1)\n",
            "Requirement already satisfied: pillow!=8.3.*,>=5.3.0 in /usr/local/lib/python3.10/dist-packages (from torchvision) (10.4.0)\n",
            "Requirement already satisfied: scipy>=1.6.0 in /usr/local/lib/python3.10/dist-packages (from scikit-learn) (1.13.1)\n",
            "Requirement already satisfied: joblib>=1.2.0 in /usr/local/lib/python3.10/dist-packages (from scikit-learn) (1.4.2)\n",
            "Requirement already satisfied: threadpoolctl>=3.1.0 in /usr/local/lib/python3.10/dist-packages (from scikit-learn) (3.5.0)\n",
            "Requirement already satisfied: MarkupSafe>=2.0 in /usr/local/lib/python3.10/dist-packages (from jinja2->torch) (2.1.5)\n",
            "Requirement already satisfied: mpmath<1.4,>=1.1.0 in /usr/local/lib/python3.10/dist-packages (from sympy->torch) (1.3.0)\n",
            "Collecting antlr4-python3-runtime>=4.8 (from -r req.txt (line 1))\n",
            "  Using cached antlr4_python3_runtime-4.13.2-py3-none-any.whl.metadata (304 bytes)\n",
            "Collecting argon2-cffi==20.1.0 (from -r req.txt (line 2))\n",
            "  Using cached argon2_cffi-20.1.0-cp35-abi3-manylinux1_x86_64.whl.metadata (7.9 kB)\n",
            "Collecting async-generator==1.10 (from -r req.txt (line 3))\n",
            "  Using cached async_generator-1.10-py3-none-any.whl.metadata (4.9 kB)\n",
            "Collecting async-timeout==3.0.1 (from -r req.txt (line 4))\n",
            "  Using cached async_timeout-3.0.1-py3-none-any.whl.metadata (4.0 kB)\n",
            "Collecting attrs==20.2.0 (from -r req.txt (line 5))\n",
            "  Using cached attrs-20.2.0-py2.py3-none-any.whl.metadata (10 kB)\n",
            "Requirement already satisfied: backcall==0.2.0 in /usr/local/lib/python3.10/dist-packages (from -r req.txt (line 6)) (0.2.0)\n",
            "Collecting bleach==3.2.1 (from -r req.txt (line 7))\n",
            "  Using cached bleach-3.2.1-py2.py3-none-any.whl.metadata (22 kB)\n",
            "Requirement already satisfied: blinker==1.4 in /usr/lib/python3/dist-packages (from -r req.txt (line 8)) (1.4)\n",
            "Collecting brotlipy==0.7.0 (from -r req.txt (line 9))\n",
            "  Using cached brotlipy-0.7.0-cp35-abi3-manylinux2010_x86_64.whl.metadata (2.9 kB)\n",
            "Collecting cachetools==4.1.1 (from -r req.txt (line 10))\n",
            "  Using cached cachetools-4.1.1-py3-none-any.whl.metadata (4.4 kB)\n",
            "Collecting certifi==2020.11.8 (from -r req.txt (line 11))\n",
            "  Using cached certifi-2020.11.8-py2.py3-none-any.whl.metadata (3.0 kB)\n",
            "Collecting cffi==1.14.3 (from -r req.txt (line 12))\n",
            "  Using cached cffi-1.14.3.tar.gz (470 kB)\n",
            "  Preparing metadata (setup.py) ... \u001b[?25l\u001b[?25hdone\n",
            "Collecting chardet==3.0.4 (from -r req.txt (line 13))\n",
            "  Using cached chardet-3.0.4-py2.py3-none-any.whl.metadata (3.2 kB)\n",
            "Collecting click==7.1.2 (from -r req.txt (line 14))\n",
            "  Using cached click-7.1.2-py2.py3-none-any.whl.metadata (2.9 kB)\n",
            "Collecting cryptography==3.1.1 (from -r req.txt (line 15))\n",
            "  Using cached cryptography-3.1.1-cp35-abi3-manylinux2010_x86_64.whl.metadata (5.2 kB)\n",
            "Collecting cycler==0.10.0 (from -r req.txt (line 16))\n",
            "  Using cached cycler-0.10.0-py2.py3-none-any.whl.metadata (722 bytes)\n",
            "Collecting dataclasses==0.6 (from -r req.txt (line 17))\n",
            "  Using cached dataclasses-0.6-py3-none-any.whl.metadata (3.0 kB)\n",
            "Requirement already satisfied: decorator==4.4.2 in /usr/local/lib/python3.10/dist-packages (from -r req.txt (line 18)) (4.4.2)\n",
            "Collecting defusedxml==0.6.0 (from -r req.txt (line 19))\n",
            "  Using cached defusedxml-0.6.0-py2.py3-none-any.whl.metadata (31 kB)\n",
            "Collecting entrypoints==0.3 (from -r req.txt (line 20))\n",
            "  Using cached entrypoints-0.3-py2.py3-none-any.whl.metadata (1.4 kB)\n",
            "Collecting imblearn==0.0 (from -r req.txt (line 21))\n",
            "  Using cached imblearn-0.0-py2.py3-none-any.whl.metadata (355 bytes)\n",
            "Collecting future==0.18.2 (from -r req.txt (line 22))\n",
            "  Using cached future-0.18.2.tar.gz (829 kB)\n",
            "  Preparing metadata (setup.py) ... \u001b[?25l\u001b[?25hdone\n",
            "Collecting google-auth==1.22.1 (from -r req.txt (line 23))\n",
            "  Using cached google_auth-1.22.1-py2.py3-none-any.whl.metadata (3.3 kB)\n",
            "Collecting google-auth-oauthlib==0.4.1 (from -r req.txt (line 24))\n",
            "  Using cached google_auth_oauthlib-0.4.1-py2.py3-none-any.whl.metadata (2.4 kB)\n",
            "Collecting grpcio==1.31.0 (from -r req.txt (line 25))\n",
            "  Using cached grpcio-1.31.0.tar.gz (20.0 MB)\n",
            "  Preparing metadata (setup.py) ... \u001b[?25l\u001b[?25hdone\n",
            "Collecting Hydra==2.5 (from -r req.txt (line 26))\n",
            "  Using cached Hydra-2.5.tar.gz (82 kB)\n",
            "  Preparing metadata (setup.py) ... \u001b[?25l\u001b[?25hdone\n",
            "Collecting hydra-core==1.2.0 (from -r req.txt (line 27))\n",
            "  Using cached hydra_core-1.2.0-py3-none-any.whl.metadata (4.0 kB)\n",
            "Collecting idna==2.10 (from -r req.txt (line 28))\n",
            "  Using cached idna-2.10-py2.py3-none-any.whl.metadata (9.1 kB)\n",
            "Collecting importlib-metadata==2.0.0 (from -r req.txt (line 29))\n",
            "  Using cached importlib_metadata-2.0.0-py2.py3-none-any.whl.metadata (2.1 kB)\n",
            "Collecting importlib-resources==5.4.0 (from -r req.txt (line 30))\n",
            "  Using cached importlib_resources-5.4.0-py3-none-any.whl.metadata (3.1 kB)\n",
            "Collecting ipykernel==5.3.4 (from -r req.txt (line 31))\n",
            "  Using cached ipykernel-5.3.4-py3-none-any.whl.metadata (1.0 kB)\n",
            "Collecting ipython==7.18.1 (from -r req.txt (line 32))\n",
            "  Using cached ipython-7.18.1-py3-none-any.whl.metadata (4.4 kB)\n",
            "Requirement already satisfied: ipython-genutils==0.2.0 in /usr/local/lib/python3.10/dist-packages (from -r req.txt (line 33)) (0.2.0)\n",
            "Collecting ipywidgets==7.5.1 (from -r req.txt (line 34))\n",
            "  Using cached ipywidgets-7.5.1-py2.py3-none-any.whl.metadata (1.8 kB)\n",
            "Collecting jedi==0.17.2 (from -r req.txt (line 35))\n",
            "  Using cached jedi-0.17.2-py2.py3-none-any.whl.metadata (19 kB)\n",
            "Collecting Jinja2==2.11.2 (from -r req.txt (line 36))\n",
            "  Using cached Jinja2-2.11.2-py2.py3-none-any.whl.metadata (3.5 kB)\n",
            "Collecting joblib==0.15.1 (from -r req.txt (line 37))\n",
            "  Using cached joblib-0.15.1-py3-none-any.whl.metadata (4.5 kB)\n",
            "Collecting json5==0.9.5 (from -r req.txt (line 38))\n",
            "  Using cached json5-0.9.5-py2.py3-none-any.whl.metadata (7.3 kB)\n",
            "Collecting jsonschema==3.2.0 (from -r req.txt (line 39))\n",
            "  Using cached jsonschema-3.2.0-py2.py3-none-any.whl.metadata (7.8 kB)\n",
            "Collecting kiwisolver==1.3.0 (from -r req.txt (line 40))\n",
            "  Using cached kiwisolver-1.3.0.tar.gz (54 kB)\n",
            "  Preparing metadata (setup.py) ... \u001b[?25l\u001b[?25hdone\n",
            "Collecting Markdown==3.3.2 (from -r req.txt (line 41))\n",
            "  Using cached Markdown-3.3.2-py3-none-any.whl.metadata (4.4 kB)\n",
            "Collecting MarkupSafe==1.1.1 (from -r req.txt (line 42))\n",
            "  Using cached MarkupSafe-1.1.1.tar.gz (19 kB)\n",
            "  Preparing metadata (setup.py) ... \u001b[?25l\u001b[?25hdone\n",
            "Collecting matplotlib==3.2.1 (from -r req.txt (line 43))\n",
            "  Using cached matplotlib-3.2.1.tar.gz (40.3 MB)\n",
            "  Preparing metadata (setup.py) ... \u001b[?25l\u001b[?25hdone\n",
            "Requirement already satisfied: mistune==0.8.4 in /usr/local/lib/python3.10/dist-packages (from -r req.txt (line 44)) (0.8.4)\n",
            "Collecting multidict==4.7.6 (from -r req.txt (line 45))\n",
            "  Using cached multidict-4.7.6.tar.gz (50 kB)\n",
            "  Installing build dependencies ... \u001b[?25l\u001b[?25hdone\n",
            "  Getting requirements to build wheel ... \u001b[?25l\u001b[?25hdone\n",
            "  Preparing metadata (pyproject.toml) ... \u001b[?25l\u001b[?25hdone\n",
            "Collecting nbclient==0.5.1 (from -r req.txt (line 46))\n",
            "  Using cached nbclient-0.5.1-py3-none-any.whl.metadata (6.0 kB)\n",
            "Collecting nbconvert==6.0.7 (from -r req.txt (line 47))\n",
            "  Using cached nbconvert-6.0.7-py3-none-any.whl.metadata (6.2 kB)\n",
            "Collecting nbformat==5.0.8 (from -r req.txt (line 48))\n",
            "  Using cached nbformat-5.0.8-py3-none-any.whl.metadata (1.3 kB)\n",
            "Collecting nest-asyncio==1.4.1 (from -r req.txt (line 49))\n",
            "  Using cached nest_asyncio-1.4.1-py3-none-any.whl.metadata (2.5 kB)\n",
            "Collecting notebook==6.1.4 (from -r req.txt (line 50))\n",
            "  Using cached notebook-6.1.4-py3-none-any.whl.metadata (2.3 kB)\n",
            "Collecting numpy==1.18.1 (from -r req.txt (line 51))\n",
            "  Using cached numpy-1.18.1.zip (5.4 MB)\n",
            "  Installing build dependencies ... \u001b[?25l\u001b[?25hdone\n",
            "  Getting requirements to build wheel ... \u001b[?25l\u001b[?25hdone\n",
            "  \u001b[1;31merror\u001b[0m: \u001b[1msubprocess-exited-with-error\u001b[0m\n",
            "  \n",
            "  \u001b[31m×\u001b[0m \u001b[32mPreparing metadata \u001b[0m\u001b[1;32m(\u001b[0m\u001b[32mpyproject.toml\u001b[0m\u001b[1;32m)\u001b[0m did not run successfully.\n",
            "  \u001b[31m│\u001b[0m exit code: \u001b[1;36m1\u001b[0m\n",
            "  \u001b[31m╰─>\u001b[0m See above for output.\n",
            "  \n",
            "  \u001b[1;35mnote\u001b[0m: This error originates from a subprocess, and is likely not a problem with pip.\n",
            "  Preparing metadata (pyproject.toml) ... \u001b[?25l\u001b[?25herror\n",
            "\u001b[1;31merror\u001b[0m: \u001b[1mmetadata-generation-failed\u001b[0m\n",
            "\n",
            "\u001b[31m×\u001b[0m Encountered error while generating package metadata.\n",
            "\u001b[31m╰─>\u001b[0m See above for output.\n",
            "\n",
            "\u001b[1;35mnote\u001b[0m: This is an issue with the package mentioned above, not pip.\n",
            "\u001b[1;36mhint\u001b[0m: See above for details.\n"
          ]
        }
      ],
      "source": [
        "!pip install torch torchvision numpy scikit-learn\n",
        "!pip install -r req.txt\n"
      ]
    },
    {
      "cell_type": "code",
      "source": [],
      "metadata": {
        "id": "BS2DSuc6lg6L"
      },
      "execution_count": null,
      "outputs": []
    },
    {
      "cell_type": "code",
      "source": [
        "from google.colab import drive\n",
        "import numpy as np\n",
        "\n",
        "# Mount Google Drive\n",
        "drive.mount('/content/drive')\n",
        "\n",
        "# Load ADL data\n",
        "data_path = '/content/drive/MyDrive/ssl-wearables-main/data/adl_30hz_clean'\n",
        "X = np.load(f'{data_path}/X.npy')  # Load accelerometer data\n",
        "Y = np.load(f'{data_path}/Y.npy')  # Load labels\n",
        "\n",
        "# Print dimensions to inspect\n",
        "print(X.shape, Y.shape)  # Expected shape: (635, 300, 3), (635,)\n"
      ],
      "metadata": {
        "colab": {
          "base_uri": "https://localhost:8080/"
        },
        "id": "0g3lMGQ0He0k",
        "outputId": "bc367663-a072-4d90-efb0-5b48e9f6695f"
      },
      "execution_count": null,
      "outputs": [
        {
          "output_type": "stream",
          "name": "stdout",
          "text": [
            "Drive already mounted at /content/drive; to attempt to forcibly remount, call drive.mount(\"/content/drive\", force_remount=True).\n",
            "(635, 300, 3) (635,)\n"
          ]
        }
      ]
    },
    {
      "cell_type": "code",
      "source": [
        "#print(Y[0:634])\n",
        "print(X[0:20])"
      ],
      "metadata": {
        "colab": {
          "base_uri": "https://localhost:8080/"
        },
        "collapsed": true,
        "id": "R0-fPIwPNzHR",
        "outputId": "74dc0a86-eb61-42e5-d2d9-fd7a3e421f1b"
      },
      "execution_count": null,
      "outputs": [
        {
          "output_type": "stream",
          "name": "stdout",
          "text": [
            "[[[ 0.35714286  0.54761905  0.83333333]\n",
            "  [ 0.31589425  0.5952381   0.72853958]\n",
            "  [ 0.39202102  0.56338589  0.58249721]\n",
            "  ...\n",
            "  [-0.82059245  0.30952381  0.38565058]\n",
            "  [-0.96663481  0.26508998  0.31589425]\n",
            "  [-1.11904762  0.11904762  0.21428571]]\n",
            "\n",
            " [[ 0.30952381  0.26190476  0.69047619]\n",
            "  [ 0.45238095  0.35395764  0.64285714]\n",
            "  [ 0.45238095  0.29041249  0.63011626]\n",
            "  ...\n",
            "  [-0.75083612  0.2682752   0.06505813]\n",
            "  [-0.78252907  0.30633859  0.1158624 ]\n",
            "  [-0.73809524  0.26190476  0.11904762]]\n",
            "\n",
            " [[-0.88095238  0.64285714  0.11904762]\n",
            "  [-0.87458194  0.54443383  0.02380952]\n",
            "  [-0.77934384  0.5         0.02380952]\n",
            "  ...\n",
            "  [ 0.35077242  0.16029623  1.01743908]\n",
            "  [ 0.35714286  0.07779901  0.9793757 ]\n",
            "  [ 0.35714286  0.11904762  1.02380952]]\n",
            "\n",
            " ...\n",
            "\n",
            " [[-0.02380952  0.54761905  0.92857143]\n",
            "  [ 0.02699474  0.54761905  0.88732282]\n",
            "  [ 0.07779901  0.54124861  0.96982004]\n",
            "  ...\n",
            "  [-0.67773531  0.64285714  0.5       ]\n",
            "  [-0.60160854  0.68729097  0.5       ]\n",
            "  [-0.5952381   0.73809524  0.5       ]]\n",
            "\n",
            " [[ 0.02380952  0.4047619   0.92857143]\n",
            "  [ 0.30649785  0.08416945  0.02699474]\n",
            "  [ 0.92857143  0.236423    0.07142857]\n",
            "  ...\n",
            "  [-0.9859054   0.17940755  0.11267718]\n",
            "  [-0.79526995  0.25553432  0.16348145]\n",
            "  [-0.83333333  0.16666667  0.11904762]]\n",
            "\n",
            " [[-0.83333333  0.21428571  0.02380952]\n",
            "  [-0.74128046  0.25871954  0.02380952]\n",
            "  [-0.77934384  0.21428571  0.02380952]\n",
            "  ...\n",
            "  [-0.94768275  0.30315337  0.1317885 ]\n",
            "  [-0.97300526  0.26508998  0.11904762]\n",
            "  [-0.97619048  0.11904762  0.07142857]]]\n"
          ]
        }
      ]
    },
    {
      "cell_type": "code",
      "source": [
        "from sklearn.model_selection import train_test_split\n",
        "from sklearn.preprocessing import LabelEncoder\n",
        "\n",
        "# Encode labels\n",
        "label_encoder = LabelEncoder()\n",
        "Y_encoded = label_encoder.fit_transform(Y)  # Convert string labels to integers\n",
        "\n",
        "# Split dataset into training and validation sets\n",
        "X_train, X_val, Y_train, Y_val = train_test_split(X, Y_encoded, test_size=0.15, random_state=42)\n",
        "\n",
        "# Print validation set shapes\n",
        "print(X_val.shape, Y_val.shape)  # Check the shapes of validation data\n"
      ],
      "metadata": {
        "colab": {
          "base_uri": "https://localhost:8080/"
        },
        "id": "AWT3Cf36SmTq",
        "outputId": "55a6020a-1a3a-42a6-936a-3033d38e6dc2"
      },
      "execution_count": null,
      "outputs": [
        {
          "output_type": "stream",
          "name": "stdout",
          "text": [
            "(96, 300, 3) (96,)\n"
          ]
        }
      ]
    },
    {
      "cell_type": "code",
      "source": [
        "import torch\n",
        "\n",
        "# Load the Harnet10 model\n",
        "repo = 'OxWearables/ssl-wearables'\n",
        "harnet10 = torch.hub.load(repo, 'harnet10', class_num=len(label_encoder.classes_), pretrained=True)\n",
        "\n",
        "# Set the model to evaluation mode\n",
        "harnet10.eval()\n"
      ],
      "metadata": {
        "colab": {
          "base_uri": "https://localhost:8080/"
        },
        "collapsed": true,
        "id": "339m5ViIoh36",
        "outputId": "0de73975-e73f-4a06-a738-84328bf42123"
      },
      "execution_count": null,
      "outputs": [
        {
          "output_type": "stream",
          "name": "stderr",
          "text": [
            "Using cache found in /root/.cache/torch/hub/OxWearables_ssl-wearables_main\n",
            "/root/.cache/torch/hub/OxWearables_ssl-wearables_main/hubconf.py:15: FutureWarning: You are using `torch.load` with `weights_only=False` (the current default value), which uses the default pickle module implicitly. It is possible to construct malicious pickle data which will execute arbitrary code during unpickling (See https://github.com/pytorch/pytorch/blob/main/SECURITY.md#untrusted-models for more details). In a future release, the default value for `weights_only` will be flipped to `True`. This limits the functions that could be executed during unpickling. Arbitrary objects will no longer be allowed to be loaded via this mode unless they are explicitly allowlisted by the user via `torch.serialization.add_safe_globals`. We recommend you start setting `weights_only=True` for any use case where you don't have full control of the loaded file. Please open an issue on GitHub for any issues related to this experimental feature.\n",
            "  pretrained_dict = torch.load(weight_path, map_location=my_device)\n"
          ]
        },
        {
          "output_type": "stream",
          "name": "stdout",
          "text": [
            "131 Weights loaded\n"
          ]
        },
        {
          "output_type": "execute_result",
          "data": {
            "text/plain": [
              "Resnet(\n",
              "  (feature_extractor): Sequential(\n",
              "    (layer1): Sequential(\n",
              "      (0): Conv1d(3, 64, kernel_size=(5,), stride=(1,), padding=(2,), bias=False, padding_mode=circular)\n",
              "      (1): ResBlock(\n",
              "        (bn1): BatchNorm1d(64, eps=1e-05, momentum=0.1, affine=True, track_running_stats=True)\n",
              "        (bn2): BatchNorm1d(64, eps=1e-05, momentum=0.1, affine=True, track_running_stats=True)\n",
              "        (conv1): Conv1d(64, 64, kernel_size=(5,), stride=(1,), padding=(2,), bias=False, padding_mode=circular)\n",
              "        (conv2): Conv1d(64, 64, kernel_size=(5,), stride=(1,), padding=(2,), bias=False, padding_mode=circular)\n",
              "        (relu): ReLU(inplace=True)\n",
              "      )\n",
              "      (2): ResBlock(\n",
              "        (bn1): BatchNorm1d(64, eps=1e-05, momentum=0.1, affine=True, track_running_stats=True)\n",
              "        (bn2): BatchNorm1d(64, eps=1e-05, momentum=0.1, affine=True, track_running_stats=True)\n",
              "        (conv1): Conv1d(64, 64, kernel_size=(5,), stride=(1,), padding=(2,), bias=False, padding_mode=circular)\n",
              "        (conv2): Conv1d(64, 64, kernel_size=(5,), stride=(1,), padding=(2,), bias=False, padding_mode=circular)\n",
              "        (relu): ReLU(inplace=True)\n",
              "      )\n",
              "      (3): BatchNorm1d(64, eps=1e-05, momentum=0.1, affine=True, track_running_stats=True)\n",
              "      (4): ReLU(inplace=True)\n",
              "      (5): Downsample()\n",
              "    )\n",
              "    (layer2): Sequential(\n",
              "      (0): Conv1d(64, 128, kernel_size=(5,), stride=(1,), padding=(2,), bias=False, padding_mode=circular)\n",
              "      (1): ResBlock(\n",
              "        (bn1): BatchNorm1d(128, eps=1e-05, momentum=0.1, affine=True, track_running_stats=True)\n",
              "        (bn2): BatchNorm1d(128, eps=1e-05, momentum=0.1, affine=True, track_running_stats=True)\n",
              "        (conv1): Conv1d(128, 128, kernel_size=(5,), stride=(1,), padding=(2,), bias=False, padding_mode=circular)\n",
              "        (conv2): Conv1d(128, 128, kernel_size=(5,), stride=(1,), padding=(2,), bias=False, padding_mode=circular)\n",
              "        (relu): ReLU(inplace=True)\n",
              "      )\n",
              "      (2): ResBlock(\n",
              "        (bn1): BatchNorm1d(128, eps=1e-05, momentum=0.1, affine=True, track_running_stats=True)\n",
              "        (bn2): BatchNorm1d(128, eps=1e-05, momentum=0.1, affine=True, track_running_stats=True)\n",
              "        (conv1): Conv1d(128, 128, kernel_size=(5,), stride=(1,), padding=(2,), bias=False, padding_mode=circular)\n",
              "        (conv2): Conv1d(128, 128, kernel_size=(5,), stride=(1,), padding=(2,), bias=False, padding_mode=circular)\n",
              "        (relu): ReLU(inplace=True)\n",
              "      )\n",
              "      (3): BatchNorm1d(128, eps=1e-05, momentum=0.1, affine=True, track_running_stats=True)\n",
              "      (4): ReLU(inplace=True)\n",
              "      (5): Downsample()\n",
              "    )\n",
              "    (layer3): Sequential(\n",
              "      (0): Conv1d(128, 256, kernel_size=(5,), stride=(1,), padding=(2,), bias=False, padding_mode=circular)\n",
              "      (1): ResBlock(\n",
              "        (bn1): BatchNorm1d(256, eps=1e-05, momentum=0.1, affine=True, track_running_stats=True)\n",
              "        (bn2): BatchNorm1d(256, eps=1e-05, momentum=0.1, affine=True, track_running_stats=True)\n",
              "        (conv1): Conv1d(256, 256, kernel_size=(5,), stride=(1,), padding=(2,), bias=False, padding_mode=circular)\n",
              "        (conv2): Conv1d(256, 256, kernel_size=(5,), stride=(1,), padding=(2,), bias=False, padding_mode=circular)\n",
              "        (relu): ReLU(inplace=True)\n",
              "      )\n",
              "      (2): ResBlock(\n",
              "        (bn1): BatchNorm1d(256, eps=1e-05, momentum=0.1, affine=True, track_running_stats=True)\n",
              "        (bn2): BatchNorm1d(256, eps=1e-05, momentum=0.1, affine=True, track_running_stats=True)\n",
              "        (conv1): Conv1d(256, 256, kernel_size=(5,), stride=(1,), padding=(2,), bias=False, padding_mode=circular)\n",
              "        (conv2): Conv1d(256, 256, kernel_size=(5,), stride=(1,), padding=(2,), bias=False, padding_mode=circular)\n",
              "        (relu): ReLU(inplace=True)\n",
              "      )\n",
              "      (3): BatchNorm1d(256, eps=1e-05, momentum=0.1, affine=True, track_running_stats=True)\n",
              "      (4): ReLU(inplace=True)\n",
              "      (5): Downsample()\n",
              "    )\n",
              "    (layer4): Sequential(\n",
              "      (0): Conv1d(256, 512, kernel_size=(5,), stride=(1,), padding=(2,), bias=False, padding_mode=circular)\n",
              "      (1): ResBlock(\n",
              "        (bn1): BatchNorm1d(512, eps=1e-05, momentum=0.1, affine=True, track_running_stats=True)\n",
              "        (bn2): BatchNorm1d(512, eps=1e-05, momentum=0.1, affine=True, track_running_stats=True)\n",
              "        (conv1): Conv1d(512, 512, kernel_size=(5,), stride=(1,), padding=(2,), bias=False, padding_mode=circular)\n",
              "        (conv2): Conv1d(512, 512, kernel_size=(5,), stride=(1,), padding=(2,), bias=False, padding_mode=circular)\n",
              "        (relu): ReLU(inplace=True)\n",
              "      )\n",
              "      (2): ResBlock(\n",
              "        (bn1): BatchNorm1d(512, eps=1e-05, momentum=0.1, affine=True, track_running_stats=True)\n",
              "        (bn2): BatchNorm1d(512, eps=1e-05, momentum=0.1, affine=True, track_running_stats=True)\n",
              "        (conv1): Conv1d(512, 512, kernel_size=(5,), stride=(1,), padding=(2,), bias=False, padding_mode=circular)\n",
              "        (conv2): Conv1d(512, 512, kernel_size=(5,), stride=(1,), padding=(2,), bias=False, padding_mode=circular)\n",
              "        (relu): ReLU(inplace=True)\n",
              "      )\n",
              "      (3): BatchNorm1d(512, eps=1e-05, momentum=0.1, affine=True, track_running_stats=True)\n",
              "      (4): ReLU(inplace=True)\n",
              "      (5): Downsample()\n",
              "    )\n",
              "    (layer5): Sequential(\n",
              "      (0): Conv1d(512, 1024, kernel_size=(5,), stride=(1,), padding=(2,), bias=False, padding_mode=circular)\n",
              "      (1): BatchNorm1d(1024, eps=1e-05, momentum=0.1, affine=True, track_running_stats=True)\n",
              "      (2): ReLU(inplace=True)\n",
              "      (3): Downsample()\n",
              "    )\n",
              "  )\n",
              "  (classifier): EvaClassifier(\n",
              "    (linear1): Linear(in_features=1024, out_features=512, bias=True)\n",
              "    (linear2): Linear(in_features=512, out_features=5, bias=True)\n",
              "  )\n",
              ")"
            ]
          },
          "metadata": {},
          "execution_count": 95
        }
      ]
    },
    {
      "cell_type": "code",
      "source": [
        "# Convert validation data to PyTorch tensors and reshape\n",
        "X_val_tensor = torch.tensor(X_val, dtype=torch.float32).permute(0, 2, 1)  # Shape should be (96, 3, 300)\n",
        "Y_val_tensor = torch.tensor(Y_val, dtype=torch.long)\n",
        "\n",
        "# Check the shape after conversion\n",
        "print(\"Shape of X_val_tensor:\", X_val_tensor.shape)  # Expected: [96, 3, 300]\n"
      ],
      "metadata": {
        "colab": {
          "base_uri": "https://localhost:8080/"
        },
        "id": "mJsVW-Haoph4",
        "outputId": "3bf133aa-cae4-4898-8913-f4c8c912e555"
      },
      "execution_count": null,
      "outputs": [
        {
          "output_type": "stream",
          "name": "stdout",
          "text": [
            "Shape of X_val_tensor: torch.Size([96, 3, 300])\n"
          ]
        }
      ]
    },
    {
      "cell_type": "code",
      "source": [
        "import torch.nn as nn\n",
        "\n",
        "# Define the loss function\n",
        "criterion = nn.CrossEntropyLoss()\n",
        "\n",
        "# Validation loop\n",
        "with torch.no_grad():\n",
        "    val_output = harnet10(X_val_tensor)  # Forward pass through the model\n",
        "    val_loss = criterion(val_output, Y_val_tensor)  # Compute validation loss\n",
        "    print(f\"Validation Loss: {val_loss.item():.4f}\")\n",
        "\n",
        "    # Calculate accuracy\n",
        "    _, predicted = torch.max(val_output.data, 1)\n",
        "    total = Y_val_tensor.size(0)\n",
        "    correct = (predicted == Y_val_tensor).sum().item()\n",
        "    accuracy = (correct / total) * 100\n",
        "    print(f'Validation Accuracy: {accuracy:.2f}%')\n"
      ],
      "metadata": {
        "colab": {
          "base_uri": "https://localhost:8080/"
        },
        "id": "6k9cpWHxovD_",
        "outputId": "33c2dcba-57a1-41a2-d280-db517a610f9a"
      },
      "execution_count": null,
      "outputs": [
        {
          "output_type": "stream",
          "name": "stdout",
          "text": [
            "Validation Loss: 10.8334\n",
            "Validation Accuracy: 10.42%\n"
          ]
        }
      ]
    },
    {
      "cell_type": "code",
      "source": [
        "# @title Evaluation with Transfer learning, Fine tuning, shuffling and multiple epochs\n",
        "import os\n",
        "import numpy as np\n",
        "import torch\n",
        "import torch.nn as nn\n",
        "from torch.utils.data import DataLoader, TensorDataset\n",
        "from sklearn.model_selection import train_test_split\n",
        "from sklearn.preprocessing import LabelEncoder  # Don't forget to import LabelEncoder\n",
        "import matplotlib.pyplot as plt\n",
        "from sklearn.metrics import f1_score  # Import f1_score\n",
        "\n",
        "# Define paths\n",
        "data_path = '/content/drive/MyDrive/ssl-wearables-main/data/adl_30hz_clean'  # Update this path\n",
        "X = np.load(f'{data_path}/X.npy')  # Load accelerometer data\n",
        "Y = np.load(f'{data_path}/Y.npy')  # Load labels\n",
        "\n",
        "# Encode labels\n",
        "label_encoder = LabelEncoder()\n",
        "Y_encoded = label_encoder.fit_transform(Y)\n",
        "\n",
        "# Convert to PyTorch tensors\n",
        "X_tensor = torch.FloatTensor(X)\n",
        "Y_tensor = torch.LongTensor(Y_encoded)\n",
        "\n",
        "# Split the dataset into train and validation sets\n",
        "X_train, X_val, Y_train, Y_val = train_test_split(X_tensor, Y_tensor, test_size=0.2, random_state=42)\n",
        "\n",
        "# Create DataLoader\n",
        "train_dataset = TensorDataset(X_train, Y_train)\n",
        "val_dataset = TensorDataset(X_val, Y_val)\n",
        "train_loader = DataLoader(train_dataset, batch_size=32, shuffle=True)\n",
        "val_loader = DataLoader(val_dataset, batch_size=32, shuffle=False)\n",
        "\n",
        "# Load the pre-trained model\n",
        "repo = 'OxWearables/ssl-wearables'\n",
        "model = torch.hub.load(repo, 'harnet10', pretrained=True)\n",
        "\n",
        "\n",
        "# Replace the classifier with a new one for fine-tuning\n",
        "num_classes = len(label_encoder.classes_)  # Automatically determine the number of classes\n",
        "\n",
        "if hasattr(model, 'classifier'):\n",
        "    # Access the first linear layer of the classifier\n",
        "    in_features = model.classifier.linear1.in_features  # Get the input features of the first linear layer\n",
        "    model.classifier = nn.Linear(in_features, num_classes)  # Create a new classifier layer\n",
        "else:\n",
        "    print(\"The model does not have a classifier attribute.\")\n",
        "\n",
        "# Set the model to training mode\n",
        "model.train()\n",
        "\n",
        "# Define loss function and optimizer\n",
        "criterion = nn.CrossEntropyLoss()\n",
        "optimizer = torch.optim.Adam(model.parameters(), lr=1e-4)\n",
        "\n",
        "# Initialize lists to store validation loss and accuracy\n",
        "validation_losses = []\n",
        "validation_accuracies = []\n",
        "validation_f1_scores = []  # List to store F1 scores\n",
        "\n",
        "# Training loop\n",
        "num_epochs = 10  # Adjust the number of epochs as needed\n",
        "for epoch in range(num_epochs):\n",
        "    for batch_X, batch_Y in train_loader:\n",
        "        # Ensure input shape is (batch_size, channels, sequence_length)\n",
        "        batch_X = batch_X.permute(0, 2, 1)  # Adjust shape if necessary\n",
        "        optimizer.zero_grad()  # Zero the gradients\n",
        "        outputs = model(batch_X)  # Forward pass\n",
        "        loss = criterion(outputs, batch_Y)  # Compute loss\n",
        "        loss.backward()  # Backward pass (backpropagation)\n",
        "        optimizer.step()  # Update weights\n",
        "\n",
        "    # Validation phase\n",
        "    model.eval()  # Set to evaluation mode\n",
        "    val_loss = 0\n",
        "    val_accuracy = 0\n",
        "    all_predictions = []  # List to store predictions for F1 score calculation\n",
        "    all_labels = []  # List to store true labels for F1 score calculation\n",
        "    with torch.no_grad():  # No gradients needed during validation\n",
        "        for batch_X, batch_Y in val_loader:\n",
        "            batch_X = batch_X.permute(0, 2, 1)  # Adjust shape if necessary\n",
        "            outputs = model(batch_X)\n",
        "            loss = criterion(outputs, batch_Y)\n",
        "            val_loss += loss.item()\n",
        "            _, predicted = torch.max(outputs, 1)\n",
        "            val_accuracy += (predicted == batch_Y).sum().item()\n",
        "\n",
        "            # Store predictions and labels\n",
        "            all_predictions.extend(predicted.cpu().numpy())\n",
        "            all_labels.extend(batch_Y.cpu().numpy())\n",
        "\n",
        "    val_loss /= len(val_loader)\n",
        "    val_accuracy /= len(val_dataset)\n",
        "\n",
        "    # Calculate F1 score\n",
        "    f1 = f1_score(all_labels, all_predictions, average='weighted')  # Use 'weighted' to handle class imbalance\n",
        "\n",
        "    # Store validation loss, accuracy, and F1 score\n",
        "    validation_losses.append(val_loss)\n",
        "    validation_accuracies.append(val_accuracy)\n",
        "    validation_f1_scores.append(f1)\n",
        "\n",
        "    print(f'Epoch {epoch + 1}/{num_epochs}, Validation Loss: {val_loss:.4f}, Validation Accuracy: {val_accuracy:.4f}, F1 Score: {f1:.4f}')\n",
        "\n",
        "# Save the trained model\n",
        "model_save_path = './trained_harnet10_model.pth'  # Specify the model save path\n",
        "torch.save(model.state_dict(), model_save_path)\n",
        "print(f'Model saved to {model_save_path}')\n"
      ],
      "metadata": {
        "colab": {
          "base_uri": "https://localhost:8080/"
        },
        "collapsed": true,
        "id": "IQUa1SjCpBJ8",
        "outputId": "ee16ac87-8a49-46b5-b43b-480d352d8315"
      },
      "execution_count": null,
      "outputs": [
        {
          "output_type": "stream",
          "name": "stderr",
          "text": [
            "Using cache found in /root/.cache/torch/hub/OxWearables_ssl-wearables_main\n",
            "/root/.cache/torch/hub/OxWearables_ssl-wearables_main/hubconf.py:15: FutureWarning: You are using `torch.load` with `weights_only=False` (the current default value), which uses the default pickle module implicitly. It is possible to construct malicious pickle data which will execute arbitrary code during unpickling (See https://github.com/pytorch/pytorch/blob/main/SECURITY.md#untrusted-models for more details). In a future release, the default value for `weights_only` will be flipped to `True`. This limits the functions that could be executed during unpickling. Arbitrary objects will no longer be allowed to be loaded via this mode unless they are explicitly allowlisted by the user via `torch.serialization.add_safe_globals`. We recommend you start setting `weights_only=True` for any use case where you don't have full control of the loaded file. Please open an issue on GitHub for any issues related to this experimental feature.\n",
            "  pretrained_dict = torch.load(weight_path, map_location=my_device)\n"
          ]
        },
        {
          "output_type": "stream",
          "name": "stdout",
          "text": [
            "131 Weights loaded\n",
            "Epoch 1/10, Validation Loss: 0.6226, Validation Accuracy: 0.8189, F1 Score: 0.7917\n",
            "Epoch 2/10, Validation Loss: 0.1657, Validation Accuracy: 0.9685, F1 Score: 0.9682\n",
            "Epoch 3/10, Validation Loss: 0.1387, Validation Accuracy: 0.9685, F1 Score: 0.9693\n",
            "Epoch 4/10, Validation Loss: 0.1247, Validation Accuracy: 0.9685, F1 Score: 0.9686\n",
            "Epoch 5/10, Validation Loss: 0.1584, Validation Accuracy: 0.9685, F1 Score: 0.9686\n",
            "Epoch 6/10, Validation Loss: 0.1745, Validation Accuracy: 0.9764, F1 Score: 0.9763\n",
            "Epoch 7/10, Validation Loss: 0.1775, Validation Accuracy: 0.9764, F1 Score: 0.9763\n",
            "Epoch 8/10, Validation Loss: 0.1782, Validation Accuracy: 0.9764, F1 Score: 0.9763\n",
            "Epoch 9/10, Validation Loss: 0.1791, Validation Accuracy: 0.9764, F1 Score: 0.9763\n",
            "Epoch 10/10, Validation Loss: 0.1817, Validation Accuracy: 0.9764, F1 Score: 0.9763\n",
            "Model saved to ./trained_harnet10_model.pth\n"
          ]
        }
      ]
    },
    {
      "cell_type": "code",
      "source": [
        "import pandas as pd\n",
        "\n",
        "results_df = pd.DataFrame({\n",
        "    'Epoch': list(range(1, num_epochs + 1)),\n",
        "    'Validation Loss': validation_losses,\n",
        "    'Validation Accuracy': validation_accuracies,\n",
        "    'F-1 Score': validation_f1_scores\n",
        "})\n",
        "\n",
        "print(\"\\nValidation Results:\")\n",
        "print(results_df)\n",
        "\n",
        "epochs = list(range(1, num_epochs + 1))\n",
        "\n",
        "fig, ax1 = plt.subplots(figsize=(10, 5))\n",
        "\n",
        "# Plot F-1 accuracy\n",
        "color = 'tab:blue'\n",
        "ax1.set_xlabel('Epochs')\n",
        "ax1.set_ylabel('F-1 Accuracy', color=color)\n",
        "ax1.plot(epochs, validation_accuracies, marker='o', color=color, label='F-1 Score')\n",
        "ax1.tick_params(axis='y', labelcolor=color)\n",
        "ax1.set_ylim(0, 1)  # Set y-axis limits to [0, 1]\n",
        "\n",
        "# Create a second y-axis to plot validation loss\n",
        "ax2 = ax1.twinx()\n",
        "color = 'tab:red'\n",
        "ax2.set_ylabel('Loss', color=color)\n",
        "ax2.plot(epochs, validation_losses, marker='o', color=color, label='Validation Loss')\n",
        "ax2.tick_params(axis='y', labelcolor=color)\n",
        "ax2.set_ylim(0, max(validation_losses) * 1.1)  # Set y-axis limits\n",
        "\n",
        "# Adding grid and legends\n",
        "ax1.grid()\n",
        "fig.tight_layout()  # Adjust layout to prevent overlap\n",
        "plt.title('Validation Loss and Accuracy Over Epochs')\n",
        "plt.show()"
      ],
      "metadata": {
        "colab": {
          "base_uri": "https://localhost:8080/",
          "height": 749
        },
        "id": "f8eHU_1TzRvy",
        "outputId": "3e1aa05e-fb30-453b-bc1a-00e9d2194ead"
      },
      "execution_count": null,
      "outputs": [
        {
          "output_type": "stream",
          "name": "stdout",
          "text": [
            "\n",
            "Validation Results:\n",
            "   Epoch  Validation Loss  Validation Accuracy  F-1 Score\n",
            "0      1         0.622550             0.818898   0.791721\n",
            "1      2         0.165657             0.968504   0.968170\n",
            "2      3         0.138723             0.968504   0.969312\n",
            "3      4         0.124685             0.968504   0.968599\n",
            "4      5         0.158450             0.968504   0.968599\n",
            "5      6         0.174524             0.976378   0.976343\n",
            "6      7         0.177521             0.976378   0.976343\n",
            "7      8         0.178184             0.976378   0.976343\n",
            "8      9         0.179146             0.976378   0.976343\n",
            "9     10         0.181700             0.976378   0.976343\n"
          ]
        },
        {
          "output_type": "display_data",
          "data": {
            "text/plain": [
              "<Figure size 1000x500 with 2 Axes>"
            ],
            "image/png": "[encoded data removed]"
          },
          "metadata": {}
        }
      ]
    },
    {
      "cell_type": "code",
      "source": [],
      "metadata": {
        "id": "6t14QXuQpBO1"
      },
      "execution_count": null,
      "outputs": []
    },
    {
      "cell_type": "code",
      "source": [],
      "metadata": {
        "id": "cvlGXdbLpBRL"
      },
      "execution_count": null,
      "outputs": []
    },
    {
      "cell_type": "code",
      "source": [],
      "metadata": {
        "id": "HssTzsiRpBTc"
      },
      "execution_count": null,
      "outputs": []
    },
    {
      "cell_type": "code",
      "source": [],
      "metadata": {
        "id": "YsfnNROspBVu"
      },
      "execution_count": null,
      "outputs": []
    }
  ]
}